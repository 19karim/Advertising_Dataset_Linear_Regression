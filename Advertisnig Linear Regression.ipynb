{
 "cells": [
  {
   "cell_type": "markdown",
   "metadata": {},
   "source": [
    "## Import Python library"
   ]
  },
  {
   "cell_type": "code",
   "execution_count": 1,
   "metadata": {},
   "outputs": [],
   "source": [
    "\n",
    "import pandas as pd\n",
    "import numpy as np\n",
    "import matplotlib.pyplot as plt\n",
    "import seaborn as sns"
   ]
  },
  {
   "cell_type": "markdown",
   "metadata": {},
   "source": [
    "## Import Dataset"
   ]
  },
  {
   "cell_type": "code",
   "execution_count": 2,
   "metadata": {},
   "outputs": [
    {
     "data": {
      "text/html": [
       "<div>\n",
       "<style scoped>\n",
       "    .dataframe tbody tr th:only-of-type {\n",
       "        vertical-align: middle;\n",
       "    }\n",
       "\n",
       "    .dataframe tbody tr th {\n",
       "        vertical-align: top;\n",
       "    }\n",
       "\n",
       "    .dataframe thead th {\n",
       "        text-align: right;\n",
       "    }\n",
       "</style>\n",
       "<table border=\"1\" class=\"dataframe\">\n",
       "  <thead>\n",
       "    <tr style=\"text-align: right;\">\n",
       "      <th></th>\n",
       "      <th>TV</th>\n",
       "      <th>radio</th>\n",
       "      <th>newspaper</th>\n",
       "      <th>sales</th>\n",
       "    </tr>\n",
       "  </thead>\n",
       "  <tbody>\n",
       "    <tr>\n",
       "      <th>1</th>\n",
       "      <td>230.1</td>\n",
       "      <td>37.8</td>\n",
       "      <td>69.2</td>\n",
       "      <td>22.1</td>\n",
       "    </tr>\n",
       "    <tr>\n",
       "      <th>2</th>\n",
       "      <td>44.5</td>\n",
       "      <td>39.3</td>\n",
       "      <td>45.1</td>\n",
       "      <td>10.4</td>\n",
       "    </tr>\n",
       "    <tr>\n",
       "      <th>3</th>\n",
       "      <td>17.2</td>\n",
       "      <td>45.9</td>\n",
       "      <td>69.3</td>\n",
       "      <td>9.3</td>\n",
       "    </tr>\n",
       "    <tr>\n",
       "      <th>4</th>\n",
       "      <td>151.5</td>\n",
       "      <td>41.3</td>\n",
       "      <td>58.5</td>\n",
       "      <td>18.5</td>\n",
       "    </tr>\n",
       "    <tr>\n",
       "      <th>5</th>\n",
       "      <td>180.8</td>\n",
       "      <td>10.8</td>\n",
       "      <td>58.4</td>\n",
       "      <td>12.9</td>\n",
       "    </tr>\n",
       "  </tbody>\n",
       "</table>\n",
       "</div>"
      ],
      "text/plain": [
       "      TV  radio  newspaper  sales\n",
       "1  230.1   37.8       69.2   22.1\n",
       "2   44.5   39.3       45.1   10.4\n",
       "3   17.2   45.9       69.3    9.3\n",
       "4  151.5   41.3       58.5   18.5\n",
       "5  180.8   10.8       58.4   12.9"
      ]
     },
     "execution_count": 2,
     "metadata": {},
     "output_type": "execute_result"
    }
   ],
   "source": [
    "data = pd.read_csv(r\"Advertising.csv\", index_col=0,header=0)\n",
    "data.head()"
   ]
  },
  {
   "cell_type": "code",
   "execution_count": 3,
   "metadata": {},
   "outputs": [
    {
     "name": "stdout",
     "output_type": "stream",
     "text": [
      "TV           float64\n",
      "radio        float64\n",
      "newspaper    float64\n",
      "sales        float64\n",
      "dtype: object\n",
      "(200, 4)\n",
      "               TV       radio   newspaper       sales\n",
      "count  200.000000  200.000000  200.000000  200.000000\n",
      "mean   147.042500   23.264000   30.554000   14.022500\n",
      "std     85.854236   14.846809   21.778621    5.217457\n",
      "min      0.700000    0.000000    0.300000    1.600000\n",
      "25%     74.375000    9.975000   12.750000   10.375000\n",
      "50%    149.750000   22.900000   25.750000   12.900000\n",
      "75%    218.825000   36.525000   45.100000   17.400000\n",
      "max    296.400000   49.600000  114.000000   27.000000\n"
     ]
    }
   ],
   "source": [
    "print(data.dtypes)\n",
    "print(data.shape)\n",
    "print(data.describe())"
   ]
  },
  {
   "cell_type": "markdown",
   "metadata": {},
   "source": [
    "## Feature Selection cannot be done since all are important from domain point of view"
   ]
  },
  {
   "cell_type": "code",
   "execution_count": 4,
   "metadata": {},
   "outputs": [
    {
     "name": "stdout",
     "output_type": "stream",
     "text": [
      "<class 'pandas.core.frame.DataFrame'>\n",
      "Int64Index: 200 entries, 1 to 200\n",
      "Data columns (total 4 columns):\n",
      " #   Column     Non-Null Count  Dtype  \n",
      "---  ------     --------------  -----  \n",
      " 0   TV         200 non-null    float64\n",
      " 1   radio      200 non-null    float64\n",
      " 2   newspaper  200 non-null    float64\n",
      " 3   sales      200 non-null    float64\n",
      "dtypes: float64(4)\n",
      "memory usage: 7.8 KB\n"
     ]
    }
   ],
   "source": [
    "data.info()"
   ]
  },
  {
   "cell_type": "code",
   "execution_count": 5,
   "metadata": {},
   "outputs": [
    {
     "data": {
      "text/plain": [
       "TV           0\n",
       "radio        0\n",
       "newspaper    0\n",
       "sales        0\n",
       "dtype: int64"
      ]
     },
     "execution_count": 5,
     "metadata": {},
     "output_type": "execute_result"
    }
   ],
   "source": [
    "data.isna().sum()"
   ]
  },
  {
   "cell_type": "code",
   "execution_count": 6,
   "metadata": {},
   "outputs": [
    {
     "data": {
      "text/plain": [
       "<matplotlib.axes._subplots.AxesSubplot at 0x1d036cd9fc8>"
      ]
     },
     "execution_count": 6,
     "metadata": {},
     "output_type": "execute_result"
    },
    {
     "data": {
      "image/png": "[encoded data removed]",
      "text/plain": [
       "<Figure size 432x288 with 1 Axes>"
      ]
     },
     "metadata": {
      "needs_background": "light"
     },
     "output_type": "display_data"
    }
   ],
   "source": [
    "data.boxplot()"
   ]
  },
  {
   "cell_type": "markdown",
   "metadata": {},
   "source": [
    "## Assumption 1: There should be no outliers in the data."
   ]
  },
  {
   "cell_type": "code",
   "execution_count": 7,
   "metadata": {},
   "outputs": [
    {
     "data": {
      "image/png": "[encoded data removed]",
      "text/plain": [
       "<Figure size 432x288 with 1 Axes>"
      ]
     },
     "metadata": {
      "needs_background": "light"
     },
     "output_type": "display_data"
    },
    {
     "data": {
      "image/png": "[encoded data removed]",
      "text/plain": [
       "<Figure size 432x288 with 1 Axes>"
      ]
     },
     "metadata": {
      "needs_background": "light"
     },
     "output_type": "display_data"
    },
    {
     "data": {
      "image/png": "[encoded data removed]",
      "text/plain": [
       "<Figure size 432x288 with 1 Axes>"
      ]
     },
     "metadata": {
      "needs_background": "light"
     },
     "output_type": "display_data"
    },
    {
     "data": {
      "image/png": "[encoded data removed]",
      "text/plain": [
       "<Figure size 432x288 with 1 Axes>"
      ]
     },
     "metadata": {
      "needs_background": "light"
     },
     "output_type": "display_data"
    }
   ],
   "source": [
    "#Check using boxplot\n",
    "for i in data.columns:\n",
    "    data.boxplot(column=i)\n",
    "    plt.show()"
   ]
  },
  {
   "cell_type": "markdown",
   "metadata": {},
   "source": [
    "## We observe that newspaper has the outliers which can be eliminated before we proceed"
   ]
  },
  {
   "cell_type": "code",
   "execution_count": 8,
   "metadata": {},
   "outputs": [
    {
     "data": {
      "text/plain": [
       "<function matplotlib.pyplot.show(*args, **kw)>"
      ]
     },
     "execution_count": 8,
     "metadata": {},
     "output_type": "execute_result"
    },
    {
     "data": {
      "image/png": "[encoded data removed]",
      "text/plain": [
       "<Figure size 540x180 with 3 Axes>"
      ]
     },
     "metadata": {
      "needs_background": "light"
     },
     "output_type": "display_data"
    }
   ],
   "source": [
    "# Assumption 2: Assumption of Linearity: Every independent variable should have a linear relationship with the dependent \n",
    "# variable\n",
    "\n",
    "sns.pairplot(data,x_vars=['TV','radio','newspaper'],y_vars=['sales'],kind='reg')\n",
    "plt.show"
   ]
  },
  {
   "cell_type": "markdown",
   "metadata": {},
   "source": [
    "## We observe that the newspaper does not show the relationship with the sales variable. So we can eliminate the newspaper variable and proceed with TV and Radio since they show a linear relationship with the sales variable."
   ]
  },
  {
   "cell_type": "code",
   "execution_count": 9,
   "metadata": {},
   "outputs": [],
   "source": [
    "# data.drop(['newspaper'],axis=1,inplace=True)"
   ]
  },
  {
   "cell_type": "code",
   "execution_count": 10,
   "metadata": {},
   "outputs": [
    {
     "data": {
      "text/plain": [
       "Index(['TV', 'radio', 'newspaper', 'sales'], dtype='object')"
      ]
     },
     "execution_count": 10,
     "metadata": {},
     "output_type": "execute_result"
    }
   ],
   "source": [
    "data.columns"
   ]
  },
  {
   "cell_type": "markdown",
   "metadata": {},
   "source": [
    "### Create X and Y"
   ]
  },
  {
   "cell_type": "code",
   "execution_count": null,
   "metadata": {},
   "outputs": [],
   "source": [
    "X = data.loc[:,['TV','radio','newspaper']]\n",
    "Y = data.loc[:,'sales']\n",
    "#X = data.iloc[:,0:-1]  # In the place of -1 we can also use 3 it will give the same output \n",
    "#Y = data.iloc[:,-1]"
   ]
  },
  {
   "cell_type": "code",
   "execution_count": 12,
   "metadata": {},
   "outputs": [
    {
     "name": "stdout",
     "output_type": "stream",
     "text": [
      "(200, 3)\n",
      "(200,)\n"
     ]
    }
   ],
   "source": [
    "print(X.shape)\n",
    "print(Y.shape)"
   ]
  },
  {
   "cell_type": "code",
   "execution_count": 13,
   "metadata": {},
   "outputs": [
    {
     "data": {
      "text/plain": [
       "Int64Index([17, 102], dtype='int64')"
      ]
     },
     "execution_count": 13,
     "metadata": {},
     "output_type": "execute_result"
    }
   ],
   "source": [
    "# This code is use to find the outliers index in the newspaper column\n",
    "data[data['newspaper']>=90].index"
   ]
  },
  {
   "cell_type": "code",
   "execution_count": 14,
   "metadata": {},
   "outputs": [],
   "source": [
    "# This code will be used to drop the outliers from the newspaper column\n",
    "#data.drop(data[data['newspaper']>=90].index,axis=0,inplace=True)"
   ]
  },
  {
   "cell_type": "code",
   "execution_count": 15,
   "metadata": {},
   "outputs": [],
   "source": [
    "import warnings\n",
    "warnings.filterwarnings('ignore')"
   ]
  },
  {
   "cell_type": "markdown",
   "metadata": {},
   "source": [
    "## Assumption of Normality 3: The dependent variable should follow on approximate normal distribution "
   ]
  },
  {
   "cell_type": "code",
   "execution_count": 16,
   "metadata": {
    "scrolled": true
   },
   "outputs": [
    {
     "data": {
      "image/png": "[encoded data removed]",
      "text/plain": [
       "<Figure size 432x288 with 1 Axes>"
      ]
     },
     "metadata": {
      "needs_background": "light"
     },
     "output_type": "display_data"
    }
   ],
   "source": [
    "sns.distplot(Y)\n",
    "plt.show()"
   ]
  },
  {
   "cell_type": "markdown",
   "metadata": {},
   "source": [
    "If the skewness is more then we use log transformation to reduce the skewness. As shown in the above graph skewness is  \n",
    "less so there is no need of log transformation\n",
    "In case the Y does not follow the nomral distribution then we have to perform log tranfromation to reduce the skewness in Y\n",
    "and go ahead with the Y_log\n",
    "\n",
    "log transformation\n",
    "import numpy as np\n",
    "Y_log = np.log(Y)"
   ]
  },
  {
   "cell_type": "code",
   "execution_count": 18,
   "metadata": {},
   "outputs": [],
   "source": [
    "#sns.displot(Y_log)\n",
    "#plt.show"
   ]
  },
  {
   "cell_type": "code",
   "execution_count": 19,
   "metadata": {},
   "outputs": [
    {
     "data": {
      "text/plain": [
       "<function matplotlib.pyplot.show(*args, **kw)>"
      ]
     },
     "execution_count": 19,
     "metadata": {},
     "output_type": "execute_result"
    },
    {
     "data": {
      "image/png": "[encoded data removed]",
      "text/plain": [
       "<Figure size 432x288 with 4 Axes>"
      ]
     },
     "metadata": {
      "needs_background": "light"
     },
     "output_type": "display_data"
    }
   ],
   "source": [
    "X.hist(bins=20)\n",
    "plt.show"
   ]
  },
  {
   "cell_type": "code",
   "execution_count": 20,
   "metadata": {},
   "outputs": [],
   "source": [
    "# sns.distplot(X.TV)\n",
    "# sns.distplot(X.newspaper)\n",
    "# sns.distplot(X.radio)"
   ]
  },
  {
   "cell_type": "code",
   "execution_count": 21,
   "metadata": {},
   "outputs": [
    {
     "name": "stdout",
     "output_type": "stream",
     "text": [
      "TV          -0.069328\n",
      "radio        0.093467\n",
      "newspaper    0.887996\n",
      "dtype: float64\n",
      "newspaper    0.887996\n",
      "dtype: float64\n"
     ]
    }
   ],
   "source": [
    "from scipy.stats import skew\n",
    "#finding the skewness in each variable\n",
    "data_num_skew = X.apply(lambda i: skew(i.dropna()))\n",
    "#subsetting the variables that are highly skewed\n",
    "data_num_skewed = data_num_skew[(data_num_skew > .75) | (data_num_skew < -.75)]\n",
    " \n",
    "print(data_num_skew)\n",
    "print(data_num_skewed)\n",
    "import numpy as np\n",
    "# apply log + 1 transformation for all numeric features with skewness over .75\n",
    "X[data_num_skewed.index] = np.log1p(X[data_num_skewed.index])"
   ]
  },
  {
   "cell_type": "markdown",
   "metadata": {},
   "source": [
    "### If the variable consist of zero value log0 will lead to -ve infinity which throw an error while building the model. In such cases we can use log+1 Transformation to avoid the -ve infinity problem"
   ]
  },
  {
   "cell_type": "markdown",
   "metadata": {},
   "source": [
    "## Assumption 4: There should be no multicollinearity between the independent variables"
   ]
  },
  {
   "cell_type": "markdown",
   "metadata": {},
   "source": [
    "### Multicollinearity is the relationship amongst the multiple independent variables"
   ]
  },
  {
   "cell_type": "code",
   "execution_count": 23,
   "metadata": {},
   "outputs": [
    {
     "name": "stdout",
     "output_type": "stream",
     "text": [
      "                 TV     radio  newspaper\n",
      "TV         1.000000  0.054809   0.030951\n",
      "radio      0.054809  1.000000   0.251909\n",
      "newspaper  0.030951  0.251909   1.000000\n"
     ]
    },
    {
     "data": {
      "image/png": "[encoded data removed]",
      "text/plain": [
       "<Figure size 432x288 with 2 Axes>"
      ]
     },
     "metadata": {
      "needs_background": "light"
     },
     "output_type": "display_data"
    }
   ],
   "source": [
    "corr_df=X.corr(method=\"pearson\")\n",
    "print(corr_df)\n",
    " \n",
    "sns.heatmap(corr_df,vmax=1.0,vmin=-1.0,annot=True)\n",
    "plt.show()"
   ]
  },
  {
   "cell_type": "code",
   "execution_count": 24,
   "metadata": {},
   "outputs": [
    {
     "data": {
      "text/html": [
       "<div>\n",
       "<style scoped>\n",
       "    .dataframe tbody tr th:only-of-type {\n",
       "        vertical-align: middle;\n",
       "    }\n",
       "\n",
       "    .dataframe tbody tr th {\n",
       "        vertical-align: top;\n",
       "    }\n",
       "\n",
       "    .dataframe thead th {\n",
       "        text-align: right;\n",
       "    }\n",
       "</style>\n",
       "<table border=\"1\" class=\"dataframe\">\n",
       "  <thead>\n",
       "    <tr style=\"text-align: right;\">\n",
       "      <th></th>\n",
       "      <th>features</th>\n",
       "      <th>VIF Factor</th>\n",
       "    </tr>\n",
       "  </thead>\n",
       "  <tbody>\n",
       "    <tr>\n",
       "      <th>0</th>\n",
       "      <td>TV</td>\n",
       "      <td>3.39</td>\n",
       "    </tr>\n",
       "    <tr>\n",
       "      <th>1</th>\n",
       "      <td>radio</td>\n",
       "      <td>3.63</td>\n",
       "    </tr>\n",
       "    <tr>\n",
       "      <th>2</th>\n",
       "      <td>newspaper</td>\n",
       "      <td>5.44</td>\n",
       "    </tr>\n",
       "  </tbody>\n",
       "</table>\n",
       "</div>"
      ],
      "text/plain": [
       "    features  VIF Factor\n",
       "0         TV        3.39\n",
       "1      radio        3.63\n",
       "2  newspaper        5.44"
      ]
     },
     "execution_count": 24,
     "metadata": {},
     "output_type": "execute_result"
    }
   ],
   "source": [
    "from statsmodels.stats.outliers_influence import variance_inflation_factor as vif\n",
    " \n",
    "vif_df = pd.DataFrame()\n",
    "vif_df[\"features\"] = X.columns\n",
    "vif_df[\"VIF Factor\"] = [vif(X.values, i) for i in range(X.shape[1])]\n",
    "vif_df.round(2)"
   ]
  },
  {
   "cell_type": "code",
   "execution_count": 25,
   "metadata": {},
   "outputs": [],
   "source": [
    "# X.drop('newspaper',axis=1,inplace=True)\n",
    "#rerun the VIF code "
   ]
  },
  {
   "cell_type": "code",
   "execution_count": 26,
   "metadata": {},
   "outputs": [],
   "source": [
    "from sklearn.model_selection import train_test_split\n",
    " \n",
    "#Split the data into test and train\n",
    "X_train, X_test, Y_train, Y_test = train_test_split(X, Y, test_size=0.2, \n",
    "                                                    random_state=10) "
   ]
  },
  {
   "cell_type": "code",
   "execution_count": 27,
   "metadata": {},
   "outputs": [
    {
     "name": "stdout",
     "output_type": "stream",
     "text": [
      "(160, 3)\n",
      "(160,)\n",
      "(40, 3)\n",
      "(40,)\n"
     ]
    }
   ],
   "source": [
    "print(X_train.shape)\n",
    "print(Y_train.shape)\n",
    "print(X_test.shape)\n",
    "print(Y_test.shape)\n",
    "#print('Percent of train data',X_train.shape[0]/X.shape[0]*100)"
   ]
  },
  {
   "cell_type": "code",
   "execution_count": 28,
   "metadata": {},
   "outputs": [],
   "source": [
    "#>1000 - >test_size = 0.3\n",
    "#<1000 - >test_size = 0.2"
   ]
  },
  {
   "cell_type": "code",
   "execution_count": 29,
   "metadata": {},
   "outputs": [
    {
     "name": "stdout",
     "output_type": "stream",
     "text": [
      "3.3532913858151527\n",
      "[ 0.0437425   0.19303708 -0.04895137]\n"
     ]
    }
   ],
   "source": [
    "from sklearn.linear_model import LinearRegression\n",
    "# create a model object\n",
    "lm = LinearRegression()\n",
    "# train the model object\n",
    "lm.fit(X_train,Y_train)\n",
    "\n",
    "\n",
    "# print intercept and coeffficients\n",
    "print(lm.intercept_)   # Beta 0 value will be saved in intercept as per equation\n",
    "print(lm.coef_)        # Beta 1 value will be saved in coef as per equation"
   ]
  },
  {
   "cell_type": "code",
   "execution_count": 30,
   "metadata": {},
   "outputs": [
    {
     "name": "stdout",
     "output_type": "stream",
     "text": [
      "[('TV', 0.04374250157742165), ('radio', 0.19303707897345299), ('newspaper', -0.048951368222488065)]\n"
     ]
    }
   ],
   "source": [
    "# pair the feature names with the coefficients\n",
    "print(list(zip(X.columns,lm.coef_)))"
   ]
  },
  {
   "cell_type": "code",
   "execution_count": 31,
   "metadata": {
    "scrolled": true
   },
   "outputs": [
    {
     "name": "stdout",
     "output_type": "stream",
     "text": [
      "26.80533291380066\n"
     ]
    }
   ],
   "source": [
    "# predict by entering the value manually\n",
    "X1 = 100\n",
    "X2 = 100\n",
    "X3 = np.log1p(100) # The newspaper value we used log transfromation for reason we write log function in X3\n",
    "\n",
    "Y_pred = 3.3532913858151527+(0.0437425*X1)+( 0.19303708*X2)+(-0.04895137*X3)\n",
    "print(Y_pred)\n"
   ]
  },
  {
   "cell_type": "code",
   "execution_count": 32,
   "metadata": {},
   "outputs": [
    {
     "name": "stdout",
     "output_type": "stream",
     "text": [
      "46.33495738581515\n"
     ]
    }
   ],
   "source": [
    "X1 = 100\n",
    "X2 = 200\n",
    "X3 = np.log1p(0) # The newspaper value we used log transfromation for reason we write log function in X3 and value for X3 \n",
    "                 # is given 0 because its show neagtive impact on the sales as per lm.coeff_\n",
    "\n",
    "Y_pred = 3.3532913858151527+(0.0437425*X1)+( 0.19303708*X2)+(-0.04895137*X3)\n",
    "print(Y_pred)"
   ]
  },
  {
   "cell_type": "code",
   "execution_count": 33,
   "metadata": {},
   "outputs": [
    {
     "name": "stdout",
     "output_type": "stream",
     "text": [
      "[18.15026866 12.96136899 18.05815332 23.66025079 20.68751041 14.26325872\n",
      " 14.92774472 21.38847375 21.14752911 12.75788534 23.99735583  7.20632737\n",
      " 12.30777109 19.22813333 19.41581583 13.44985803 19.62619644  9.24667496\n",
      " 21.1052867  20.87838433 15.52611251 10.91695579 22.82910679 15.82915597\n",
      " 17.40742204  8.17170435 11.88738387 12.69866637 21.71275044  7.94920205\n",
      " 12.49118989 20.43292079  4.71443086  4.72126238 16.7504848  15.74384945\n",
      "  6.74775596 17.73750244  9.01170001 13.60841593]\n"
     ]
    }
   ],
   "source": [
    "# predict using the model\n",
    "Y_pred = lm.predict(X_test)\n",
    "print(Y_pred)\n"
   ]
  },
  {
   "cell_type": "code",
   "execution_count": 34,
   "metadata": {},
   "outputs": [],
   "source": [
    "new_df=pd.DataFrame()\n",
    "new_df=X_test.copy()\n",
    " \n",
    "new_df[\"Actual sales\"]=Y_test\n",
    "new_df[\"Predicted sales\"]=Y_pred"
   ]
  },
  {
   "cell_type": "code",
   "execution_count": 35,
   "metadata": {},
   "outputs": [
    {
     "data": {
      "text/html": [
       "<div>\n",
       "<style scoped>\n",
       "    .dataframe tbody tr th:only-of-type {\n",
       "        vertical-align: middle;\n",
       "    }\n",
       "\n",
       "    .dataframe tbody tr th {\n",
       "        vertical-align: top;\n",
       "    }\n",
       "\n",
       "    .dataframe thead th {\n",
       "        text-align: right;\n",
       "    }\n",
       "</style>\n",
       "<table border=\"1\" class=\"dataframe\">\n",
       "  <thead>\n",
       "    <tr style=\"text-align: right;\">\n",
       "      <th></th>\n",
       "      <th>TV</th>\n",
       "      <th>radio</th>\n",
       "      <th>newspaper</th>\n",
       "      <th>Actual sales</th>\n",
       "      <th>Predicted sales</th>\n",
       "    </tr>\n",
       "  </thead>\n",
       "  <tbody>\n",
       "    <tr>\n",
       "      <th>60</th>\n",
       "      <td>210.7</td>\n",
       "      <td>29.5</td>\n",
       "      <td>2.332144</td>\n",
       "      <td>18.4</td>\n",
       "      <td>18.150269</td>\n",
       "    </tr>\n",
       "    <tr>\n",
       "      <th>6</th>\n",
       "      <td>8.7</td>\n",
       "      <td>48.9</td>\n",
       "      <td>4.330733</td>\n",
       "      <td>7.2</td>\n",
       "      <td>12.961369</td>\n",
       "    </tr>\n",
       "    <tr>\n",
       "      <th>21</th>\n",
       "      <td>218.4</td>\n",
       "      <td>27.7</td>\n",
       "      <td>3.996364</td>\n",
       "      <td>18.0</td>\n",
       "      <td>18.058153</td>\n",
       "    </tr>\n",
       "    <tr>\n",
       "      <th>199</th>\n",
       "      <td>283.6</td>\n",
       "      <td>42.0</td>\n",
       "      <td>4.207673</td>\n",
       "      <td>25.5</td>\n",
       "      <td>23.660251</td>\n",
       "    </tr>\n",
       "    <tr>\n",
       "      <th>53</th>\n",
       "      <td>216.4</td>\n",
       "      <td>41.7</td>\n",
       "      <td>3.703768</td>\n",
       "      <td>22.6</td>\n",
       "      <td>20.687510</td>\n",
       "    </tr>\n",
       "    <tr>\n",
       "      <th>20</th>\n",
       "      <td>147.3</td>\n",
       "      <td>23.9</td>\n",
       "      <td>3.000720</td>\n",
       "      <td>14.6</td>\n",
       "      <td>14.263259</td>\n",
       "    </tr>\n",
       "    <tr>\n",
       "      <th>163</th>\n",
       "      <td>188.4</td>\n",
       "      <td>18.1</td>\n",
       "      <td>3.280911</td>\n",
       "      <td>14.9</td>\n",
       "      <td>14.927745</td>\n",
       "    </tr>\n",
       "    <tr>\n",
       "      <th>56</th>\n",
       "      <td>198.9</td>\n",
       "      <td>49.4</td>\n",
       "      <td>4.110874</td>\n",
       "      <td>23.7</td>\n",
       "      <td>21.388474</td>\n",
       "    </tr>\n",
       "    <tr>\n",
       "      <th>70</th>\n",
       "      <td>216.8</td>\n",
       "      <td>43.9</td>\n",
       "      <td>3.339322</td>\n",
       "      <td>22.3</td>\n",
       "      <td>21.147529</td>\n",
       "    </tr>\n",
       "    <tr>\n",
       "      <th>3</th>\n",
       "      <td>17.2</td>\n",
       "      <td>45.9</td>\n",
       "      <td>4.252772</td>\n",
       "      <td>9.3</td>\n",
       "      <td>12.757885</td>\n",
       "    </tr>\n",
       "    <tr>\n",
       "      <th>99</th>\n",
       "      <td>289.7</td>\n",
       "      <td>42.3</td>\n",
       "      <td>3.955082</td>\n",
       "      <td>25.4</td>\n",
       "      <td>23.997356</td>\n",
       "    </tr>\n",
       "    <tr>\n",
       "      <th>11</th>\n",
       "      <td>66.1</td>\n",
       "      <td>5.8</td>\n",
       "      <td>3.226844</td>\n",
       "      <td>8.6</td>\n",
       "      <td>7.206327</td>\n",
       "    </tr>\n",
       "    <tr>\n",
       "      <th>76</th>\n",
       "      <td>16.9</td>\n",
       "      <td>43.7</td>\n",
       "      <td>4.504244</td>\n",
       "      <td>8.7</td>\n",
       "      <td>12.307771</td>\n",
       "    </tr>\n",
       "    <tr>\n",
       "      <th>143</th>\n",
       "      <td>220.5</td>\n",
       "      <td>33.2</td>\n",
       "      <td>3.660994</td>\n",
       "      <td>20.1</td>\n",
       "      <td>19.228133</td>\n",
       "    </tr>\n",
       "    <tr>\n",
       "      <th>125</th>\n",
       "      <td>229.5</td>\n",
       "      <td>32.3</td>\n",
       "      <td>4.320151</td>\n",
       "      <td>19.7</td>\n",
       "      <td>19.415816</td>\n",
       "    </tr>\n",
       "    <tr>\n",
       "      <th>64</th>\n",
       "      <td>102.7</td>\n",
       "      <td>29.6</td>\n",
       "      <td>2.240710</td>\n",
       "      <td>14.0</td>\n",
       "      <td>13.449858</td>\n",
       "    </tr>\n",
       "    <tr>\n",
       "      <th>110</th>\n",
       "      <td>255.4</td>\n",
       "      <td>26.9</td>\n",
       "      <td>1.871802</td>\n",
       "      <td>19.8</td>\n",
       "      <td>19.626196</td>\n",
       "    </tr>\n",
       "    <tr>\n",
       "      <th>79</th>\n",
       "      <td>5.4</td>\n",
       "      <td>29.9</td>\n",
       "      <td>2.341806</td>\n",
       "      <td>5.3</td>\n",
       "      <td>9.246675</td>\n",
       "    </tr>\n",
       "    <tr>\n",
       "      <th>112</th>\n",
       "      <td>241.7</td>\n",
       "      <td>38.0</td>\n",
       "      <td>3.186353</td>\n",
       "      <td>21.8</td>\n",
       "      <td>21.105287</td>\n",
       "    </tr>\n",
       "    <tr>\n",
       "      <th>186</th>\n",
       "      <td>205.0</td>\n",
       "      <td>45.1</td>\n",
       "      <td>3.025291</td>\n",
       "      <td>22.6</td>\n",
       "      <td>20.878384</td>\n",
       "    </tr>\n",
       "    <tr>\n",
       "      <th>155</th>\n",
       "      <td>187.8</td>\n",
       "      <td>21.1</td>\n",
       "      <td>2.351375</td>\n",
       "      <td>15.6</td>\n",
       "      <td>15.526113</td>\n",
       "    </tr>\n",
       "    <tr>\n",
       "      <th>131</th>\n",
       "      <td>0.7</td>\n",
       "      <td>39.6</td>\n",
       "      <td>2.272126</td>\n",
       "      <td>1.6</td>\n",
       "      <td>10.916956</td>\n",
       "    </tr>\n",
       "    <tr>\n",
       "      <th>62</th>\n",
       "      <td>261.3</td>\n",
       "      <td>42.7</td>\n",
       "      <td>4.019980</td>\n",
       "      <td>24.2</td>\n",
       "      <td>22.829107</td>\n",
       "    </tr>\n",
       "    <tr>\n",
       "      <th>88</th>\n",
       "      <td>110.7</td>\n",
       "      <td>40.6</td>\n",
       "      <td>4.162003</td>\n",
       "      <td>16.0</td>\n",
       "      <td>15.829156</td>\n",
       "    </tr>\n",
       "    <tr>\n",
       "      <th>103</th>\n",
       "      <td>280.2</td>\n",
       "      <td>10.1</td>\n",
       "      <td>3.109061</td>\n",
       "      <td>14.8</td>\n",
       "      <td>17.407422</td>\n",
       "    </tr>\n",
       "    <tr>\n",
       "      <th>122</th>\n",
       "      <td>18.8</td>\n",
       "      <td>21.7</td>\n",
       "      <td>3.939638</td>\n",
       "      <td>7.0</td>\n",
       "      <td>8.171704</td>\n",
       "    </tr>\n",
       "    <tr>\n",
       "      <th>137</th>\n",
       "      <td>25.6</td>\n",
       "      <td>39.0</td>\n",
       "      <td>2.332144</td>\n",
       "      <td>9.5</td>\n",
       "      <td>11.887384</td>\n",
       "    </tr>\n",
       "    <tr>\n",
       "      <th>2</th>\n",
       "      <td>44.5</td>\n",
       "      <td>39.3</td>\n",
       "      <td>3.830813</td>\n",
       "      <td>10.4</td>\n",
       "      <td>12.698666</td>\n",
       "    </tr>\n",
       "    <tr>\n",
       "      <th>48</th>\n",
       "      <td>239.9</td>\n",
       "      <td>41.5</td>\n",
       "      <td>2.970414</td>\n",
       "      <td>23.2</td>\n",
       "      <td>21.712750</td>\n",
       "    </tr>\n",
       "    <tr>\n",
       "      <th>173</th>\n",
       "      <td>19.6</td>\n",
       "      <td>20.1</td>\n",
       "      <td>2.890372</td>\n",
       "      <td>7.6</td>\n",
       "      <td>7.949202</td>\n",
       "    </tr>\n",
       "    <tr>\n",
       "      <th>160</th>\n",
       "      <td>131.7</td>\n",
       "      <td>18.4</td>\n",
       "      <td>3.572346</td>\n",
       "      <td>12.9</td>\n",
       "      <td>12.491190</td>\n",
       "    </tr>\n",
       "    <tr>\n",
       "      <th>40</th>\n",
       "      <td>228.0</td>\n",
       "      <td>37.7</td>\n",
       "      <td>3.496508</td>\n",
       "      <td>21.5</td>\n",
       "      <td>20.432921</td>\n",
       "    </tr>\n",
       "    <tr>\n",
       "      <th>77</th>\n",
       "      <td>27.5</td>\n",
       "      <td>1.6</td>\n",
       "      <td>3.077312</td>\n",
       "      <td>6.9</td>\n",
       "      <td>4.714431</td>\n",
       "    </tr>\n",
       "    <tr>\n",
       "      <th>92</th>\n",
       "      <td>28.6</td>\n",
       "      <td>1.5</td>\n",
       "      <td>3.526361</td>\n",
       "      <td>7.3</td>\n",
       "      <td>4.721262</td>\n",
       "    </tr>\n",
       "    <tr>\n",
       "      <th>36</th>\n",
       "      <td>290.7</td>\n",
       "      <td>4.1</td>\n",
       "      <td>2.251292</td>\n",
       "      <td>12.8</td>\n",
       "      <td>16.750485</td>\n",
       "    </tr>\n",
       "    <tr>\n",
       "      <th>179</th>\n",
       "      <td>276.7</td>\n",
       "      <td>2.3</td>\n",
       "      <td>3.206803</td>\n",
       "      <td>11.8</td>\n",
       "      <td>15.743849</td>\n",
       "    </tr>\n",
       "    <tr>\n",
       "      <th>128</th>\n",
       "      <td>80.2</td>\n",
       "      <td>0.0</td>\n",
       "      <td>2.322388</td>\n",
       "      <td>8.8</td>\n",
       "      <td>6.747756</td>\n",
       "    </tr>\n",
       "    <tr>\n",
       "      <th>170</th>\n",
       "      <td>284.3</td>\n",
       "      <td>10.6</td>\n",
       "      <td>2.001480</td>\n",
       "      <td>15.0</td>\n",
       "      <td>17.737502</td>\n",
       "    </tr>\n",
       "    <tr>\n",
       "      <th>47</th>\n",
       "      <td>89.7</td>\n",
       "      <td>9.9</td>\n",
       "      <td>3.602777</td>\n",
       "      <td>10.6</td>\n",
       "      <td>9.011700</td>\n",
       "    </tr>\n",
       "    <tr>\n",
       "      <th>175</th>\n",
       "      <td>222.4</td>\n",
       "      <td>3.4</td>\n",
       "      <td>2.646175</td>\n",
       "      <td>11.5</td>\n",
       "      <td>13.608416</td>\n",
       "    </tr>\n",
       "  </tbody>\n",
       "</table>\n",
       "</div>"
      ],
      "text/plain": [
       "        TV  radio  newspaper  Actual sales  Predicted sales\n",
       "60   210.7   29.5   2.332144          18.4        18.150269\n",
       "6      8.7   48.9   4.330733           7.2        12.961369\n",
       "21   218.4   27.7   3.996364          18.0        18.058153\n",
       "199  283.6   42.0   4.207673          25.5        23.660251\n",
       "53   216.4   41.7   3.703768          22.6        20.687510\n",
       "20   147.3   23.9   3.000720          14.6        14.263259\n",
       "163  188.4   18.1   3.280911          14.9        14.927745\n",
       "56   198.9   49.4   4.110874          23.7        21.388474\n",
       "70   216.8   43.9   3.339322          22.3        21.147529\n",
       "3     17.2   45.9   4.252772           9.3        12.757885\n",
       "99   289.7   42.3   3.955082          25.4        23.997356\n",
       "11    66.1    5.8   3.226844           8.6         7.206327\n",
       "76    16.9   43.7   4.504244           8.7        12.307771\n",
       "143  220.5   33.2   3.660994          20.1        19.228133\n",
       "125  229.5   32.3   4.320151          19.7        19.415816\n",
       "64   102.7   29.6   2.240710          14.0        13.449858\n",
       "110  255.4   26.9   1.871802          19.8        19.626196\n",
       "79     5.4   29.9   2.341806           5.3         9.246675\n",
       "112  241.7   38.0   3.186353          21.8        21.105287\n",
       "186  205.0   45.1   3.025291          22.6        20.878384\n",
       "155  187.8   21.1   2.351375          15.6        15.526113\n",
       "131    0.7   39.6   2.272126           1.6        10.916956\n",
       "62   261.3   42.7   4.019980          24.2        22.829107\n",
       "88   110.7   40.6   4.162003          16.0        15.829156\n",
       "103  280.2   10.1   3.109061          14.8        17.407422\n",
       "122   18.8   21.7   3.939638           7.0         8.171704\n",
       "137   25.6   39.0   2.332144           9.5        11.887384\n",
       "2     44.5   39.3   3.830813          10.4        12.698666\n",
       "48   239.9   41.5   2.970414          23.2        21.712750\n",
       "173   19.6   20.1   2.890372           7.6         7.949202\n",
       "160  131.7   18.4   3.572346          12.9        12.491190\n",
       "40   228.0   37.7   3.496508          21.5        20.432921\n",
       "77    27.5    1.6   3.077312           6.9         4.714431\n",
       "92    28.6    1.5   3.526361           7.3         4.721262\n",
       "36   290.7    4.1   2.251292          12.8        16.750485\n",
       "179  276.7    2.3   3.206803          11.8        15.743849\n",
       "128   80.2    0.0   2.322388           8.8         6.747756\n",
       "170  284.3   10.6   2.001480          15.0        17.737502\n",
       "47    89.7    9.9   3.602777          10.6         9.011700\n",
       "175  222.4    3.4   2.646175          11.5        13.608416"
      ]
     },
     "execution_count": 35,
     "metadata": {},
     "output_type": "execute_result"
    }
   ],
   "source": [
    "new_df"
   ]
  },
  {
   "cell_type": "code",
   "execution_count": 36,
   "metadata": {},
   "outputs": [
    {
     "data": {
      "text/html": [
       "<div>\n",
       "<style scoped>\n",
       "    .dataframe tbody tr th:only-of-type {\n",
       "        vertical-align: middle;\n",
       "    }\n",
       "\n",
       "    .dataframe tbody tr th {\n",
       "        vertical-align: top;\n",
       "    }\n",
       "\n",
       "    .dataframe thead th {\n",
       "        text-align: right;\n",
       "    }\n",
       "</style>\n",
       "<table border=\"1\" class=\"dataframe\">\n",
       "  <thead>\n",
       "    <tr style=\"text-align: right;\">\n",
       "      <th></th>\n",
       "      <th>TV</th>\n",
       "      <th>radio</th>\n",
       "      <th>newspaper</th>\n",
       "      <th>Actual sales</th>\n",
       "      <th>Predicted sales</th>\n",
       "    </tr>\n",
       "  </thead>\n",
       "  <tbody>\n",
       "    <tr>\n",
       "      <th>0</th>\n",
       "      <td>210.7</td>\n",
       "      <td>29.5</td>\n",
       "      <td>2.332144</td>\n",
       "      <td>18.4</td>\n",
       "      <td>18.150269</td>\n",
       "    </tr>\n",
       "    <tr>\n",
       "      <th>1</th>\n",
       "      <td>8.7</td>\n",
       "      <td>48.9</td>\n",
       "      <td>4.330733</td>\n",
       "      <td>7.2</td>\n",
       "      <td>12.961369</td>\n",
       "    </tr>\n",
       "    <tr>\n",
       "      <th>2</th>\n",
       "      <td>218.4</td>\n",
       "      <td>27.7</td>\n",
       "      <td>3.996364</td>\n",
       "      <td>18.0</td>\n",
       "      <td>18.058153</td>\n",
       "    </tr>\n",
       "    <tr>\n",
       "      <th>3</th>\n",
       "      <td>283.6</td>\n",
       "      <td>42.0</td>\n",
       "      <td>4.207673</td>\n",
       "      <td>25.5</td>\n",
       "      <td>23.660251</td>\n",
       "    </tr>\n",
       "    <tr>\n",
       "      <th>4</th>\n",
       "      <td>216.4</td>\n",
       "      <td>41.7</td>\n",
       "      <td>3.703768</td>\n",
       "      <td>22.6</td>\n",
       "      <td>20.687510</td>\n",
       "    </tr>\n",
       "    <tr>\n",
       "      <th>5</th>\n",
       "      <td>147.3</td>\n",
       "      <td>23.9</td>\n",
       "      <td>3.000720</td>\n",
       "      <td>14.6</td>\n",
       "      <td>14.263259</td>\n",
       "    </tr>\n",
       "    <tr>\n",
       "      <th>6</th>\n",
       "      <td>188.4</td>\n",
       "      <td>18.1</td>\n",
       "      <td>3.280911</td>\n",
       "      <td>14.9</td>\n",
       "      <td>14.927745</td>\n",
       "    </tr>\n",
       "    <tr>\n",
       "      <th>7</th>\n",
       "      <td>198.9</td>\n",
       "      <td>49.4</td>\n",
       "      <td>4.110874</td>\n",
       "      <td>23.7</td>\n",
       "      <td>21.388474</td>\n",
       "    </tr>\n",
       "    <tr>\n",
       "      <th>8</th>\n",
       "      <td>216.8</td>\n",
       "      <td>43.9</td>\n",
       "      <td>3.339322</td>\n",
       "      <td>22.3</td>\n",
       "      <td>21.147529</td>\n",
       "    </tr>\n",
       "    <tr>\n",
       "      <th>9</th>\n",
       "      <td>17.2</td>\n",
       "      <td>45.9</td>\n",
       "      <td>4.252772</td>\n",
       "      <td>9.3</td>\n",
       "      <td>12.757885</td>\n",
       "    </tr>\n",
       "    <tr>\n",
       "      <th>10</th>\n",
       "      <td>289.7</td>\n",
       "      <td>42.3</td>\n",
       "      <td>3.955082</td>\n",
       "      <td>25.4</td>\n",
       "      <td>23.997356</td>\n",
       "    </tr>\n",
       "    <tr>\n",
       "      <th>11</th>\n",
       "      <td>66.1</td>\n",
       "      <td>5.8</td>\n",
       "      <td>3.226844</td>\n",
       "      <td>8.6</td>\n",
       "      <td>7.206327</td>\n",
       "    </tr>\n",
       "    <tr>\n",
       "      <th>12</th>\n",
       "      <td>16.9</td>\n",
       "      <td>43.7</td>\n",
       "      <td>4.504244</td>\n",
       "      <td>8.7</td>\n",
       "      <td>12.307771</td>\n",
       "    </tr>\n",
       "    <tr>\n",
       "      <th>13</th>\n",
       "      <td>220.5</td>\n",
       "      <td>33.2</td>\n",
       "      <td>3.660994</td>\n",
       "      <td>20.1</td>\n",
       "      <td>19.228133</td>\n",
       "    </tr>\n",
       "    <tr>\n",
       "      <th>14</th>\n",
       "      <td>229.5</td>\n",
       "      <td>32.3</td>\n",
       "      <td>4.320151</td>\n",
       "      <td>19.7</td>\n",
       "      <td>19.415816</td>\n",
       "    </tr>\n",
       "    <tr>\n",
       "      <th>15</th>\n",
       "      <td>102.7</td>\n",
       "      <td>29.6</td>\n",
       "      <td>2.240710</td>\n",
       "      <td>14.0</td>\n",
       "      <td>13.449858</td>\n",
       "    </tr>\n",
       "    <tr>\n",
       "      <th>16</th>\n",
       "      <td>255.4</td>\n",
       "      <td>26.9</td>\n",
       "      <td>1.871802</td>\n",
       "      <td>19.8</td>\n",
       "      <td>19.626196</td>\n",
       "    </tr>\n",
       "    <tr>\n",
       "      <th>17</th>\n",
       "      <td>5.4</td>\n",
       "      <td>29.9</td>\n",
       "      <td>2.341806</td>\n",
       "      <td>5.3</td>\n",
       "      <td>9.246675</td>\n",
       "    </tr>\n",
       "    <tr>\n",
       "      <th>18</th>\n",
       "      <td>241.7</td>\n",
       "      <td>38.0</td>\n",
       "      <td>3.186353</td>\n",
       "      <td>21.8</td>\n",
       "      <td>21.105287</td>\n",
       "    </tr>\n",
       "    <tr>\n",
       "      <th>19</th>\n",
       "      <td>205.0</td>\n",
       "      <td>45.1</td>\n",
       "      <td>3.025291</td>\n",
       "      <td>22.6</td>\n",
       "      <td>20.878384</td>\n",
       "    </tr>\n",
       "    <tr>\n",
       "      <th>20</th>\n",
       "      <td>187.8</td>\n",
       "      <td>21.1</td>\n",
       "      <td>2.351375</td>\n",
       "      <td>15.6</td>\n",
       "      <td>15.526113</td>\n",
       "    </tr>\n",
       "    <tr>\n",
       "      <th>21</th>\n",
       "      <td>0.7</td>\n",
       "      <td>39.6</td>\n",
       "      <td>2.272126</td>\n",
       "      <td>1.6</td>\n",
       "      <td>10.916956</td>\n",
       "    </tr>\n",
       "    <tr>\n",
       "      <th>22</th>\n",
       "      <td>261.3</td>\n",
       "      <td>42.7</td>\n",
       "      <td>4.019980</td>\n",
       "      <td>24.2</td>\n",
       "      <td>22.829107</td>\n",
       "    </tr>\n",
       "    <tr>\n",
       "      <th>23</th>\n",
       "      <td>110.7</td>\n",
       "      <td>40.6</td>\n",
       "      <td>4.162003</td>\n",
       "      <td>16.0</td>\n",
       "      <td>15.829156</td>\n",
       "    </tr>\n",
       "    <tr>\n",
       "      <th>24</th>\n",
       "      <td>280.2</td>\n",
       "      <td>10.1</td>\n",
       "      <td>3.109061</td>\n",
       "      <td>14.8</td>\n",
       "      <td>17.407422</td>\n",
       "    </tr>\n",
       "    <tr>\n",
       "      <th>25</th>\n",
       "      <td>18.8</td>\n",
       "      <td>21.7</td>\n",
       "      <td>3.939638</td>\n",
       "      <td>7.0</td>\n",
       "      <td>8.171704</td>\n",
       "    </tr>\n",
       "    <tr>\n",
       "      <th>26</th>\n",
       "      <td>25.6</td>\n",
       "      <td>39.0</td>\n",
       "      <td>2.332144</td>\n",
       "      <td>9.5</td>\n",
       "      <td>11.887384</td>\n",
       "    </tr>\n",
       "    <tr>\n",
       "      <th>27</th>\n",
       "      <td>44.5</td>\n",
       "      <td>39.3</td>\n",
       "      <td>3.830813</td>\n",
       "      <td>10.4</td>\n",
       "      <td>12.698666</td>\n",
       "    </tr>\n",
       "    <tr>\n",
       "      <th>28</th>\n",
       "      <td>239.9</td>\n",
       "      <td>41.5</td>\n",
       "      <td>2.970414</td>\n",
       "      <td>23.2</td>\n",
       "      <td>21.712750</td>\n",
       "    </tr>\n",
       "    <tr>\n",
       "      <th>29</th>\n",
       "      <td>19.6</td>\n",
       "      <td>20.1</td>\n",
       "      <td>2.890372</td>\n",
       "      <td>7.6</td>\n",
       "      <td>7.949202</td>\n",
       "    </tr>\n",
       "    <tr>\n",
       "      <th>30</th>\n",
       "      <td>131.7</td>\n",
       "      <td>18.4</td>\n",
       "      <td>3.572346</td>\n",
       "      <td>12.9</td>\n",
       "      <td>12.491190</td>\n",
       "    </tr>\n",
       "    <tr>\n",
       "      <th>31</th>\n",
       "      <td>228.0</td>\n",
       "      <td>37.7</td>\n",
       "      <td>3.496508</td>\n",
       "      <td>21.5</td>\n",
       "      <td>20.432921</td>\n",
       "    </tr>\n",
       "    <tr>\n",
       "      <th>32</th>\n",
       "      <td>27.5</td>\n",
       "      <td>1.6</td>\n",
       "      <td>3.077312</td>\n",
       "      <td>6.9</td>\n",
       "      <td>4.714431</td>\n",
       "    </tr>\n",
       "    <tr>\n",
       "      <th>33</th>\n",
       "      <td>28.6</td>\n",
       "      <td>1.5</td>\n",
       "      <td>3.526361</td>\n",
       "      <td>7.3</td>\n",
       "      <td>4.721262</td>\n",
       "    </tr>\n",
       "    <tr>\n",
       "      <th>34</th>\n",
       "      <td>290.7</td>\n",
       "      <td>4.1</td>\n",
       "      <td>2.251292</td>\n",
       "      <td>12.8</td>\n",
       "      <td>16.750485</td>\n",
       "    </tr>\n",
       "    <tr>\n",
       "      <th>35</th>\n",
       "      <td>276.7</td>\n",
       "      <td>2.3</td>\n",
       "      <td>3.206803</td>\n",
       "      <td>11.8</td>\n",
       "      <td>15.743849</td>\n",
       "    </tr>\n",
       "    <tr>\n",
       "      <th>36</th>\n",
       "      <td>80.2</td>\n",
       "      <td>0.0</td>\n",
       "      <td>2.322388</td>\n",
       "      <td>8.8</td>\n",
       "      <td>6.747756</td>\n",
       "    </tr>\n",
       "    <tr>\n",
       "      <th>37</th>\n",
       "      <td>284.3</td>\n",
       "      <td>10.6</td>\n",
       "      <td>2.001480</td>\n",
       "      <td>15.0</td>\n",
       "      <td>17.737502</td>\n",
       "    </tr>\n",
       "    <tr>\n",
       "      <th>38</th>\n",
       "      <td>89.7</td>\n",
       "      <td>9.9</td>\n",
       "      <td>3.602777</td>\n",
       "      <td>10.6</td>\n",
       "      <td>9.011700</td>\n",
       "    </tr>\n",
       "    <tr>\n",
       "      <th>39</th>\n",
       "      <td>222.4</td>\n",
       "      <td>3.4</td>\n",
       "      <td>2.646175</td>\n",
       "      <td>11.5</td>\n",
       "      <td>13.608416</td>\n",
       "    </tr>\n",
       "  </tbody>\n",
       "</table>\n",
       "</div>"
      ],
      "text/plain": [
       "       TV  radio  newspaper  Actual sales  Predicted sales\n",
       "0   210.7   29.5   2.332144          18.4        18.150269\n",
       "1     8.7   48.9   4.330733           7.2        12.961369\n",
       "2   218.4   27.7   3.996364          18.0        18.058153\n",
       "3   283.6   42.0   4.207673          25.5        23.660251\n",
       "4   216.4   41.7   3.703768          22.6        20.687510\n",
       "5   147.3   23.9   3.000720          14.6        14.263259\n",
       "6   188.4   18.1   3.280911          14.9        14.927745\n",
       "7   198.9   49.4   4.110874          23.7        21.388474\n",
       "8   216.8   43.9   3.339322          22.3        21.147529\n",
       "9    17.2   45.9   4.252772           9.3        12.757885\n",
       "10  289.7   42.3   3.955082          25.4        23.997356\n",
       "11   66.1    5.8   3.226844           8.6         7.206327\n",
       "12   16.9   43.7   4.504244           8.7        12.307771\n",
       "13  220.5   33.2   3.660994          20.1        19.228133\n",
       "14  229.5   32.3   4.320151          19.7        19.415816\n",
       "15  102.7   29.6   2.240710          14.0        13.449858\n",
       "16  255.4   26.9   1.871802          19.8        19.626196\n",
       "17    5.4   29.9   2.341806           5.3         9.246675\n",
       "18  241.7   38.0   3.186353          21.8        21.105287\n",
       "19  205.0   45.1   3.025291          22.6        20.878384\n",
       "20  187.8   21.1   2.351375          15.6        15.526113\n",
       "21    0.7   39.6   2.272126           1.6        10.916956\n",
       "22  261.3   42.7   4.019980          24.2        22.829107\n",
       "23  110.7   40.6   4.162003          16.0        15.829156\n",
       "24  280.2   10.1   3.109061          14.8        17.407422\n",
       "25   18.8   21.7   3.939638           7.0         8.171704\n",
       "26   25.6   39.0   2.332144           9.5        11.887384\n",
       "27   44.5   39.3   3.830813          10.4        12.698666\n",
       "28  239.9   41.5   2.970414          23.2        21.712750\n",
       "29   19.6   20.1   2.890372           7.6         7.949202\n",
       "30  131.7   18.4   3.572346          12.9        12.491190\n",
       "31  228.0   37.7   3.496508          21.5        20.432921\n",
       "32   27.5    1.6   3.077312           6.9         4.714431\n",
       "33   28.6    1.5   3.526361           7.3         4.721262\n",
       "34  290.7    4.1   2.251292          12.8        16.750485\n",
       "35  276.7    2.3   3.206803          11.8        15.743849\n",
       "36   80.2    0.0   2.322388           8.8         6.747756\n",
       "37  284.3   10.6   2.001480          15.0        17.737502\n",
       "38   89.7    9.9   3.602777          10.6         9.011700\n",
       "39  222.4    3.4   2.646175          11.5        13.608416"
      ]
     },
     "execution_count": 36,
     "metadata": {},
     "output_type": "execute_result"
    }
   ],
   "source": [
    "new_df = new_df.reset_index().drop('index',axis=1)\n",
    "new_df"
   ]
  },
  {
   "cell_type": "code",
   "execution_count": 37,
   "metadata": {},
   "outputs": [
    {
     "data": {
      "text/plain": [
       "<function matplotlib.pyplot.show(*args, **kw)>"
      ]
     },
     "execution_count": 37,
     "metadata": {},
     "output_type": "execute_result"
    },
    {
     "data": {
      "image/png": "[encoded data removed]",
      "text/plain": [
       "<Figure size 432x288 with 1 Axes>"
      ]
     },
     "metadata": {
      "needs_background": "light"
     },
     "output_type": "display_data"
    }
   ],
   "source": [
    "new_df[\"Actual sales\"].plot(color='blue')\n",
    "new_df[\"Predicted sales\"].plot(color='orange')\n",
    "plt.show"
   ]
  },
  {
   "cell_type": "code",
   "execution_count": 38,
   "metadata": {},
   "outputs": [
    {
     "data": {
      "text/plain": [
       "0.9208986647500219"
      ]
     },
     "execution_count": 38,
     "metadata": {},
     "output_type": "execute_result"
    }
   ],
   "source": [
    "lm.score(X_train, Y_train)\n",
    "#Y_pred = lm.predict(X_train)  # In the backend this process will be done for the above equation \n",
    "#score = r2_score(Y_train,Y_pred)"
   ]
  },
  {
   "cell_type": "code",
   "execution_count": 39,
   "metadata": {},
   "outputs": [
    {
     "name": "stdout",
     "output_type": "stream",
     "text": [
      "R-squared: 0.834801071903532\n",
      "RMSE: 2.59297691109306\n",
      "Adj R-square: 0.8322725168816474\n"
     ]
    }
   ],
   "source": [
    "from sklearn.metrics import r2_score,mean_squared_error\n",
    "import numpy as np\n",
    " \n",
    "r2=r2_score(Y_test,Y_pred)\n",
    "print(\"R-squared:\",r2)\n",
    " \n",
    "rmse=np.sqrt(mean_squared_error(Y_test,Y_pred))\n",
    "print(\"RMSE:\",rmse)\n",
    " \n",
    "adjusted_r_squared = 1 - (1-r2)*(len(Y)-1)/(len(Y)-X.shape[1]-1)\n",
    "print(\"Adj R-square:\",adjusted_r_squared)"
   ]
  },
  {
   "cell_type": "code",
   "execution_count": 40,
   "metadata": {},
   "outputs": [
    {
     "name": "stdout",
     "output_type": "stream",
     "text": [
      "1.6\n",
      "25.5\n"
     ]
    }
   ],
   "source": [
    "print(Y_test.min())\n",
    "print(Y_test.max())"
   ]
  },
  {
   "cell_type": "code",
   "execution_count": 41,
   "metadata": {},
   "outputs": [
    {
     "data": {
      "text/html": [
       "<div>\n",
       "<style scoped>\n",
       "    .dataframe tbody tr th:only-of-type {\n",
       "        vertical-align: middle;\n",
       "    }\n",
       "\n",
       "    .dataframe tbody tr th {\n",
       "        vertical-align: top;\n",
       "    }\n",
       "\n",
       "    .dataframe thead th {\n",
       "        text-align: right;\n",
       "    }\n",
       "</style>\n",
       "<table border=\"1\" class=\"dataframe\">\n",
       "  <thead>\n",
       "    <tr style=\"text-align: right;\">\n",
       "      <th></th>\n",
       "      <th>TV</th>\n",
       "      <th>radio</th>\n",
       "      <th>newspaper</th>\n",
       "      <th>Actual sales</th>\n",
       "      <th>Predicted sales</th>\n",
       "      <th>Residual</th>\n",
       "    </tr>\n",
       "  </thead>\n",
       "  <tbody>\n",
       "    <tr>\n",
       "      <th>0</th>\n",
       "      <td>210.7</td>\n",
       "      <td>29.5</td>\n",
       "      <td>2.332144</td>\n",
       "      <td>18.4</td>\n",
       "      <td>18.150269</td>\n",
       "      <td>0.249731</td>\n",
       "    </tr>\n",
       "    <tr>\n",
       "      <th>1</th>\n",
       "      <td>8.7</td>\n",
       "      <td>48.9</td>\n",
       "      <td>4.330733</td>\n",
       "      <td>7.2</td>\n",
       "      <td>12.961369</td>\n",
       "      <td>-5.761369</td>\n",
       "    </tr>\n",
       "    <tr>\n",
       "      <th>2</th>\n",
       "      <td>218.4</td>\n",
       "      <td>27.7</td>\n",
       "      <td>3.996364</td>\n",
       "      <td>18.0</td>\n",
       "      <td>18.058153</td>\n",
       "      <td>-0.058153</td>\n",
       "    </tr>\n",
       "    <tr>\n",
       "      <th>3</th>\n",
       "      <td>283.6</td>\n",
       "      <td>42.0</td>\n",
       "      <td>4.207673</td>\n",
       "      <td>25.5</td>\n",
       "      <td>23.660251</td>\n",
       "      <td>1.839749</td>\n",
       "    </tr>\n",
       "    <tr>\n",
       "      <th>4</th>\n",
       "      <td>216.4</td>\n",
       "      <td>41.7</td>\n",
       "      <td>3.703768</td>\n",
       "      <td>22.6</td>\n",
       "      <td>20.687510</td>\n",
       "      <td>1.912490</td>\n",
       "    </tr>\n",
       "  </tbody>\n",
       "</table>\n",
       "</div>"
      ],
      "text/plain": [
       "      TV  radio  newspaper  Actual sales  Predicted sales  Residual\n",
       "0  210.7   29.5   2.332144          18.4        18.150269  0.249731\n",
       "1    8.7   48.9   4.330733           7.2        12.961369 -5.761369\n",
       "2  218.4   27.7   3.996364          18.0        18.058153 -0.058153\n",
       "3  283.6   42.0   4.207673          25.5        23.660251  1.839749\n",
       "4  216.4   41.7   3.703768          22.6        20.687510  1.912490"
      ]
     },
     "execution_count": 41,
     "metadata": {},
     "output_type": "execute_result"
    }
   ],
   "source": [
    "new_df[\"Residual\"]=new_df[\"Actual sales\"]-new_df[\"Predicted sales\"]\n",
    "new_df.to_excel(\"Sales Prediction.xlsx\",header=True,index=True)\n",
    "new_df.head()"
   ]
  },
  {
   "cell_type": "code",
   "execution_count": 43,
   "metadata": {},
   "outputs": [],
   "source": [
    "from sklearn.model_selection import train_test_split\n",
    " \n",
    "#Split the data into test and train\n",
    "X_train, X_test, Y_train, Y_test = train_test_split(X, Y, test_size=0.2, \n",
    "                                                    random_state=10) "
   ]
  },
  {
   "cell_type": "markdown",
   "metadata": {},
   "source": [
    "## Tuning"
   ]
  },
  {
   "cell_type": "markdown",
   "metadata": {},
   "source": [
    "## Method 1: Ridge"
   ]
  },
  {
   "cell_type": "code",
   "execution_count": 44,
   "metadata": {},
   "outputs": [
    {
     "name": "stdout",
     "output_type": "stream",
     "text": [
      "3.3522471725966003\n",
      "[ 0.04374234  0.19302603 -0.04853131]\n"
     ]
    }
   ],
   "source": [
    "from sklearn.linear_model import Ridge\n",
    "# create a model object\n",
    "rid = Ridge()\n",
    "# train the model object\n",
    "rid.fit(X_train,Y_train)\n",
    "\n",
    "'''\n",
    "Previous values from the lm model:\n",
    "3.3532913858151527\n",
    "[ 0.0437425   0.19303708 -0.04895137]\n",
    "'''\n",
    "\n",
    "# print intercept and coeffficients\n",
    "print(rid.intercept_)   \n",
    "print(rid.coef_)       "
   ]
  },
  {
   "cell_type": "code",
   "execution_count": 45,
   "metadata": {},
   "outputs": [
    {
     "name": "stdout",
     "output_type": "stream",
     "text": [
      "[18.14984366 12.961602   18.05844603 23.66046356 20.68752578 14.26318679\n",
      " 14.9278479  21.38857787 21.14736702 12.75811738 23.99745819  7.20656373\n",
      " 12.30813313 19.22822402 19.41619189 13.44941112 19.62559951  9.24628306\n",
      " 21.1051215  20.87807898 15.52579217 10.91642817 22.82923662 15.82939321\n",
      " 17.40752649  8.17207209 11.88688403 12.69878967 21.71245614  7.94914659\n",
      " 12.49142141 20.43289143  4.71465713  4.7216782  16.75029355 15.74408175\n",
      "  6.74767421 17.73713545  9.01204512 13.60840942]\n"
     ]
    }
   ],
   "source": [
    "Y_pred = rid.predict(X_test)\n",
    "print(Y_pred)"
   ]
  },
  {
   "cell_type": "code",
   "execution_count": 46,
   "metadata": {},
   "outputs": [
    {
     "name": "stdout",
     "output_type": "stream",
     "text": [
      "R-squared: 0.8348082644975934\n",
      "RMSE: 2.592920462683998\n",
      "Adj R-square: 0.832279819566434\n"
     ]
    }
   ],
   "source": [
    "from sklearn.metrics import r2_score,mean_squared_error\n",
    "import numpy as np\n",
    " \n",
    "r2=r2_score(Y_test,Y_pred)\n",
    "print(\"R-squared:\",r2)\n",
    " \n",
    "rmse=np.sqrt(mean_squared_error(Y_test,Y_pred))\n",
    "print(\"RMSE:\",rmse)\n",
    " \n",
    "adjusted_r_squared = 1 - (1-r2)*(len(Y)-1)/(len(Y)-X.shape[1]-1)\n",
    "print(\"Adj R-square:\",adjusted_r_squared)\n",
    "\n",
    "\n",
    "'''\n",
    "Previous values:\n",
    "R-squared: 0.834801071903532\n",
    "RMSE: 2.59297691109306\n",
    "Adj R-square: 0.8322725168816474\n",
    "'''"
   ]
  },
  {
   "cell_type": "markdown",
   "metadata": {},
   "source": [
    "## Method 2: LASSO\n"
   ]
  },
  {
   "cell_type": "code",
   "execution_count": 47,
   "metadata": {},
   "outputs": [
    {
     "name": "stdout",
     "output_type": "stream",
     "text": [
      "3.3367940582203186\n",
      "[ 0.04362374  0.18766033 -0.        ]\n"
     ]
    }
   ],
   "source": [
    "from sklearn.linear_model import Lasso\n",
    "# create a model object\n",
    "las = Lasso()\n",
    "# train the model object\n",
    "las.fit(X_train,Y_train)\n",
    "\n",
    "'''\n",
    "Previous values from the lm model:\n",
    "3.3532913858151527\n",
    "[ 0.0437425   0.19303708 -0.04895137]\n",
    "'''\n",
    "\n",
    "# print intercept and coeffficients\n",
    "print(las.intercept_)   \n",
    "print(las.coef_)   "
   ]
  },
  {
   "cell_type": "code",
   "execution_count": 48,
   "metadata": {
    "scrolled": true
   },
   "outputs": [
    {
     "name": "stdout",
     "output_type": "stream",
     "text": [
      "[18.06429565 12.89291061 18.06240985 23.59022036 20.60240696 14.24765273\n",
      " 14.95215852 21.28397604 21.03270918 12.70073142 23.91262327  7.30875314\n",
      " 12.27479157 19.18615151 19.40987087 13.37169781 19.52635995  9.18340605\n",
      " 21.01174436 20.74314144 15.48896526 10.79867965 22.74877319 15.78495133\n",
      " 17.45553519  8.22914947 11.77231457 12.65310134 21.59003277  7.96379194\n",
      " 12.53499059 20.35780103  4.83670342  4.8659235  16.78762249 15.83910155\n",
      "  6.83541797 17.72822269  9.10768074 13.67675885]\n"
     ]
    }
   ],
   "source": [
    "Y_pred = las.predict(X_test)\n",
    "print(Y_pred)"
   ]
  },
  {
   "cell_type": "code",
   "execution_count": 50,
   "metadata": {},
   "outputs": [
    {
     "name": "stdout",
     "output_type": "stream",
     "text": [
      "R-squared: 0.8360506658527163\n",
      "RMSE: 2.5831514271094234\n",
      "Adj R-square: 0.8335412372688292\n"
     ]
    }
   ],
   "source": [
    "from sklearn.metrics import r2_score,mean_squared_error\n",
    "import numpy as np\n",
    " \n",
    "r2=r2_score(Y_test,Y_pred)\n",
    "print(\"R-squared:\",r2)\n",
    " \n",
    "rmse=np.sqrt(mean_squared_error(Y_test,Y_pred))\n",
    "print(\"RMSE:\",rmse)\n",
    " \n",
    "adjusted_r_squared = 1 - (1-r2)*(len(Y)-1)/(len(Y)-X.shape[1]-1)\n",
    "print(\"Adj R-square:\",adjusted_r_squared)\n",
    "\n",
    "'''\n",
    "Previous values:\n",
    "R-squared: 0.834801071903532\n",
    "RMSE: 2.59297691109306\n",
    "Adj R-square: 0.8322725168816474\n",
    "'''"
   ]
  },
  {
   "cell_type": "markdown",
   "metadata": {},
   "source": [
    "## Method 3: Elastic Net"
   ]
  },
  {
   "cell_type": "code",
   "execution_count": 57,
   "metadata": {},
   "outputs": [
    {
     "name": "stdout",
     "output_type": "stream",
     "text": [
      "3.230988320952605\n",
      "[ 0.04371138  0.19185605 -0.        ]\n"
     ]
    }
   ],
   "source": [
    "from sklearn.linear_model import ElasticNet\n",
    "# create a model object\n",
    "en = ElasticNet(alpha=0.2,l1_ratio=0.5)\n",
    "# train the model object\n",
    "en.fit(X_train,Y_train)\n",
    "\n",
    "'''\n",
    "Previous values from the lm model:\n",
    "3.3532913858151527\n",
    "[ 0.0437425   0.19303708 -0.04895137]\n",
    "'''\n",
    "\n",
    "# print intercept and coeffficients\n",
    "print(en.intercept_)   \n",
    "print(en.coef_)   "
   ]
  },
  {
   "cell_type": "code",
   "execution_count": 58,
   "metadata": {},
   "outputs": [
    {
     "name": "stdout",
     "output_type": "stream",
     "text": [
      "[18.10072871 12.99303807 18.09196542 23.68548863 20.69052734 14.25503359\n",
      " 14.93880607 21.40286983 21.1300952  12.78901662 24.00968484  7.23307537\n",
      " 12.3538199  19.23896757 19.45969951 13.39908569 19.55580149  9.2035256\n",
      " 21.08655778 20.84452822 15.48814739 10.85908581 22.84502418 15.85919323\n",
      " 17.41666201  8.21603845 11.83238544 12.71608727 21.67937347  7.94403787\n",
      " 12.51792785 20.43015511  4.74002084  4.76891775 16.72449517 15.76719501\n",
      "  6.73664069 17.69180667  9.05127364 13.60470894]\n"
     ]
    }
   ],
   "source": [
    "Y_pred = en.predict(X_test)\n",
    "print(Y_pred)"
   ]
  },
  {
   "cell_type": "code",
   "execution_count": 59,
   "metadata": {},
   "outputs": [
    {
     "name": "stdout",
     "output_type": "stream",
     "text": [
      "R-squared: 0.8355456999096106\n",
      "RMSE: 2.5871264375981777\n",
      "Adj R-square: 0.8330285422551659\n"
     ]
    },
    {
     "data": {
      "text/plain": [
       "'\\nPrevious values:\\nR-squared: 0.834801071903532\\nRMSE: 2.59297691109306\\nAdj R-square: 0.8322725168816474\\n'"
      ]
     },
     "execution_count": 59,
     "metadata": {},
     "output_type": "execute_result"
    }
   ],
   "source": [
    "from sklearn.metrics import r2_score,mean_squared_error\n",
    "import numpy as np\n",
    " \n",
    "r2=r2_score(Y_test,Y_pred)\n",
    "print(\"R-squared:\",r2)\n",
    " \n",
    "rmse=np.sqrt(mean_squared_error(Y_test,Y_pred))\n",
    "print(\"RMSE:\",rmse)\n",
    " \n",
    "adjusted_r_squared = 1 - (1-r2)*(len(Y)-1)/(len(Y)-X.shape[1]-1)\n",
    "print(\"Adj R-square:\",adjusted_r_squared)\n",
    "\n",
    "\n",
    "'''\n",
    "Previous values:\n",
    "R-squared: 0.834801071903532\n",
    "RMSE: 2.59297691109306\n",
    "Adj R-square: 0.8322725168816474\n",
    "'''"
   ]
  },
  {
   "cell_type": "markdown",
   "metadata": {},
   "source": [
    "## Building the model using statsmodel"
   ]
  },
  {
   "cell_type": "code",
   "execution_count": null,
   "metadata": {},
   "outputs": [],
   "source": [
    "#OLS-->OLS(Y_train, X_train)\n",
    "#ols-->ols(Y~X1+X2+X3)"
   ]
  },
  {
   "cell_type": "code",
   "execution_count": null,
   "metadata": {},
   "outputs": [],
   "source": [
    "#fit(X_train, Y_train)-->sklearn\n",
    "#Y~X1+X2+X3,data=df-->statsmodels"
   ]
  },
  {
   "cell_type": "code",
   "execution_count": 60,
   "metadata": {},
   "outputs": [
    {
     "data": {
      "text/plain": [
       "(160, 4)"
      ]
     },
     "execution_count": 60,
     "metadata": {},
     "output_type": "execute_result"
    }
   ],
   "source": [
    "new_df = pd.DataFrame()\n",
    "new_df = X_train.copy()\n",
    "\n",
    "new_df['sales'] = Y_train.copy()\n",
    "new_df.shape"
   ]
  },
  {
   "cell_type": "code",
   "execution_count": 62,
   "metadata": {},
   "outputs": [
    {
     "name": "stdout",
     "output_type": "stream",
     "text": [
      "Intercept    3.353291\n",
      "TV           0.043743\n",
      "radio        0.193037\n",
      "newspaper   -0.048951\n",
      "dtype: float64\n",
      "                            OLS Regression Results                            \n",
      "==============================================================================\n",
      "Dep. Variable:                  sales   R-squared:                       0.921\n",
      "Model:                            OLS   Adj. R-squared:                  0.919\n",
      "Method:                 Least Squares   F-statistic:                     605.4\n",
      "Date:                Fri, 24 Nov 2023   Prob (F-statistic):           1.10e-85\n",
      "Time:                        12:30:02   Log-Likelihood:                -276.63\n",
      "No. Observations:                 160   AIC:                             561.3\n",
      "Df Residuals:                     156   BIC:                             573.6\n",
      "Df Model:                           3                                         \n",
      "Covariance Type:            nonrobust                                         \n",
      "==============================================================================\n",
      "                 coef    std err          t      P>|t|      [0.025      0.975]\n",
      "------------------------------------------------------------------------------\n",
      "Intercept      3.3533      0.442      7.578      0.000       2.479       4.227\n",
      "TV             0.0437      0.001     32.516      0.000       0.041       0.046\n",
      "radio          0.1930      0.008     24.946      0.000       0.178       0.208\n",
      "newspaper     -0.0490      0.125     -0.391      0.697      -0.297       0.199\n",
      "==============================================================================\n",
      "Omnibus:                       12.594   Durbin-Watson:                   2.106\n",
      "Prob(Omnibus):                  0.002   Jarque-Bera (JB):               13.403\n",
      "Skew:                          -0.699   Prob(JB):                      0.00123\n",
      "Kurtosis:                       3.237   Cond. No.                         697.\n",
      "==============================================================================\n",
      "\n",
      "Warnings:\n",
      "[1] Standard Errors assume that the covariance matrix of the errors is correctly specified.\n"
     ]
    }
   ],
   "source": [
    "import statsmodels.formula.api as sm\n",
    " \n",
    "# create a fitted model with all three features\n",
    "lm_model = sm.ols(formula='sales ~ TV + radio + newspaper', \n",
    "                  data=new_df).fit()\n",
    " \n",
    "# print the coefficients\n",
    "print(lm_model.params)\n",
    "print(lm_model.summary())\n",
    "\n",
    "\"\"\"\n",
    "3.3532913858151527\n",
    "[ 0.0437425   0.19303708 -0.04895137]\n",
    " \n",
    "\"\"\""
   ]
  },
  {
   "cell_type": "markdown",
   "metadata": {},
   "source": [
    "## Assumption 5: There should be no auto correlation in the data"
   ]
  },
  {
   "cell_type": "code",
   "execution_count": 63,
   "metadata": {},
   "outputs": [
    {
     "name": "stdout",
     "output_type": "stream",
     "text": [
      "60     18.150269\n",
      "6      12.961369\n",
      "21     18.058153\n",
      "199    23.660251\n",
      "53     20.687510\n",
      "20     14.263259\n",
      "163    14.927745\n",
      "56     21.388474\n",
      "70     21.147529\n",
      "3      12.757885\n",
      "99     23.997356\n",
      "11      7.206327\n",
      "76     12.307771\n",
      "143    19.228133\n",
      "125    19.415816\n",
      "64     13.449858\n",
      "110    19.626196\n",
      "79      9.246675\n",
      "112    21.105287\n",
      "186    20.878384\n",
      "155    15.526113\n",
      "131    10.916956\n",
      "62     22.829107\n",
      "88     15.829156\n",
      "103    17.407422\n",
      "122     8.171704\n",
      "137    11.887384\n",
      "2      12.698666\n",
      "48     21.712750\n",
      "173     7.949202\n",
      "160    12.491190\n",
      "40     20.432921\n",
      "77      4.714431\n",
      "92      4.721262\n",
      "36     16.750485\n",
      "179    15.743849\n",
      "128     6.747756\n",
      "170    17.737502\n",
      "47      9.011700\n",
      "175    13.608416\n",
      "dtype: float64\n"
     ]
    }
   ],
   "source": [
    "Y_pred = lm_model.predict(X_test)\n",
    "print(Y_pred)"
   ]
  },
  {
   "cell_type": "code",
   "execution_count": 64,
   "metadata": {},
   "outputs": [
    {
     "name": "stdout",
     "output_type": "stream",
     "text": [
      "R-squared: 0.8348010719035377\n",
      "RMSE: 2.592976911093015\n",
      "Adj R-square: 0.832272516881653\n"
     ]
    }
   ],
   "source": [
    "from sklearn.metrics import r2_score,mean_squared_error\n",
    "import numpy as np\n",
    " \n",
    "r2=r2_score(Y_test,Y_pred)\n",
    "print(\"R-squared:\",r2)\n",
    " \n",
    "rmse=np.sqrt(mean_squared_error(Y_test,Y_pred))\n",
    "print(\"RMSE:\",rmse)\n",
    " \n",
    "adjusted_r_squared = 1 - (1-r2)*(len(Y)-1)/(len(Y)-X.shape[1]-1)\n",
    "print(\"Adj R-square:\",adjusted_r_squared)"
   ]
  },
  {
   "cell_type": "code",
   "execution_count": 65,
   "metadata": {},
   "outputs": [
    {
     "name": "stdout",
     "output_type": "stream",
     "text": [
      "Intercept    3.217026\n",
      "TV           0.043721\n",
      "radio        0.192425\n",
      "dtype: float64\n",
      "                            OLS Regression Results                            \n",
      "==============================================================================\n",
      "Dep. Variable:                  sales   R-squared:                       0.921\n",
      "Model:                            OLS   Adj. R-squared:                  0.920\n",
      "Method:                 Least Squares   F-statistic:                     912.9\n",
      "Date:                Fri, 24 Nov 2023   Prob (F-statistic):           3.47e-87\n",
      "Time:                        13:08:58   Log-Likelihood:                -276.70\n",
      "No. Observations:                 160   AIC:                             559.4\n",
      "Df Residuals:                     157   BIC:                             568.6\n",
      "Df Model:                           2                                         \n",
      "Covariance Type:            nonrobust                                         \n",
      "==============================================================================\n",
      "                 coef    std err          t      P>|t|      [0.025      0.975]\n",
      "------------------------------------------------------------------------------\n",
      "Intercept      3.2170      0.271     11.855      0.000       2.681       3.753\n",
      "TV             0.0437      0.001     32.616      0.000       0.041       0.046\n",
      "radio          0.1924      0.008     25.462      0.000       0.177       0.207\n",
      "==============================================================================\n",
      "Omnibus:                       12.555   Durbin-Watson:                   2.100\n",
      "Prob(Omnibus):                  0.002   Jarque-Bera (JB):               13.347\n",
      "Skew:                          -0.697   Prob(JB):                      0.00126\n",
      "Kurtosis:                       3.241   Cond. No.                         418.\n",
      "==============================================================================\n",
      "\n",
      "Warnings:\n",
      "[1] Standard Errors assume that the covariance matrix of the errors is correctly specified.\n"
     ]
    }
   ],
   "source": [
    "import statsmodels.formula.api as sm\n",
    " \n",
    "# create a fitted model with all three features\n",
    "lm_model = sm.ols(formula='sales ~ TV + radio', \n",
    "                  data=new_df).fit()\n",
    " \n",
    "# print the coefficients\n",
    "print(lm_model.params)\n",
    "print(lm_model.summary())\n"
   ]
  },
  {
   "cell_type": "code",
   "execution_count": 66,
   "metadata": {},
   "outputs": [
    {
     "name": "stdout",
     "output_type": "stream",
     "text": [
      "60     18.105496\n",
      "6      13.006964\n",
      "21     18.095780\n",
      "199    23.698040\n",
      "53     20.702285\n",
      "20     14.256028\n",
      "163    14.936884\n",
      "56     21.418844\n",
      "70     21.143108\n",
      "3      12.801316\n",
      "99     24.022463\n",
      "11      7.223024\n",
      "76     12.364865\n",
      "143    19.245930\n",
      "125    19.466233\n",
      "64     13.402908\n",
      "110    19.559504\n",
      "79      9.206617\n",
      "112    21.096446\n",
      "186    20.858114\n",
      "155    15.487925\n",
      "131    10.867649\n",
      "62     22.857767\n",
      "88     15.869345\n",
      "103    17.411041\n",
      "122     8.214591\n",
      "137    11.840839\n",
      "2      12.724886\n",
      "48     21.691235\n",
      "173     7.941688\n",
      "160    12.515650\n",
      "40     20.439746\n",
      "77      4.727223\n",
      "92      4.756074\n",
      "36     16.715560\n",
      "179    15.757106\n",
      "128     6.723422\n",
      "170    17.686508\n",
      "47      9.043773\n",
      "175    13.594742\n",
      "dtype: float64\n"
     ]
    }
   ],
   "source": [
    "Y_pred = lm_model.predict(X_test)\n",
    "print(Y_pred)"
   ]
  },
  {
   "cell_type": "code",
   "execution_count": 67,
   "metadata": {},
   "outputs": [
    {
     "name": "stdout",
     "output_type": "stream",
     "text": [
      "R-squared: 0.8354496662944217\n",
      "RMSE: 2.5878817077378105\n",
      "Adj R-square: 0.8329310387377037\n"
     ]
    }
   ],
   "source": [
    "from sklearn.metrics import r2_score,mean_squared_error\n",
    "import numpy as np\n",
    " \n",
    "r2=r2_score(Y_test,Y_pred)\n",
    "print(\"R-squared:\",r2)\n",
    " \n",
    "rmse=np.sqrt(mean_squared_error(Y_test,Y_pred))\n",
    "print(\"RMSE:\",rmse)\n",
    " \n",
    "adjusted_r_squared = 1 - (1-r2)*(len(Y)-1)/(len(Y)-X.shape[1]-1)\n",
    "print(\"Adj R-square:\",adjusted_r_squared)"
   ]
  },
  {
   "cell_type": "markdown",
   "metadata": {},
   "source": [
    "## Diagnose Model"
   ]
  },
  {
   "cell_type": "markdown",
   "metadata": {},
   "source": [
    "## Assumption 6: Errors should be random"
   ]
  },
  {
   "cell_type": "markdown",
   "metadata": {},
   "source": [
    "### Check using Residual v/s Fitted plot"
   ]
  },
  {
   "cell_type": "code",
   "execution_count": 68,
   "metadata": {},
   "outputs": [
    {
     "data": {
      "image/png": "[encoded data removed]",
      "text/plain": [
       "<Figure size 432x288 with 1 Axes>"
      ]
     },
     "metadata": {
      "needs_background": "light"
     },
     "output_type": "display_data"
    }
   ],
   "source": [
    "model_fitted_y = lm_model.fittedvalues\n",
    "sns.residplot(x=model_fitted_y, y='sales', data=new_df, lowess=True)\n",
    "plt.xlabel('Fitted values')\n",
    "plt.ylabel('Residuals')\n",
    "plt.show()"
   ]
  },
  {
   "cell_type": "markdown",
   "metadata": {},
   "source": [
    "### We should get a random line generated. It should not show repeated or wave like pattern"
   ]
  },
  {
   "cell_type": "markdown",
   "metadata": {},
   "source": [
    "## Assumption 7: Errors should follow a approximate normal distribution"
   ]
  },
  {
   "cell_type": "markdown",
   "metadata": {},
   "source": [
    "### Checked using Normal QQ plot"
   ]
  },
  {
   "cell_type": "code",
   "execution_count": 71,
   "metadata": {
    "scrolled": true
   },
   "outputs": [
    {
     "data": {
      "image/png": "[encoded data removed]",
      "text/plain": [
       "<Figure size 432x288 with 1 Axes>"
      ]
     },
     "execution_count": 71,
     "metadata": {},
     "output_type": "execute_result"
    },
    {
     "data": {
      "image/png": "[encoded data removed]",
      "text/plain": [
       "<Figure size 432x288 with 1 Axes>"
      ]
     },
     "metadata": {
      "needs_background": "light"
     },
     "output_type": "display_data"
    }
   ],
   "source": [
    "import statsmodels.api as sma\n",
    "sma.qqplot(lm_model.resid, line='s')"
   ]
  },
  {
   "cell_type": "markdown",
   "metadata": {},
   "source": [
    "## The Normal QQ plot is used to compare our data with standard normally distributed data (Theoritical Context)\n",
    "## If the data points or error follow the red diagonal line then it means it follows normal distribution.\n",
    "## The Error should follow the red diagonal line. If data points are far from red line than it is skewed.\n"
   ]
  },
  {
   "cell_type": "markdown",
   "metadata": {},
   "source": [
    "## Assumption 8: Errors should follow a constant variance (Homoskedasticity)"
   ]
  },
  {
   "cell_type": "markdown",
   "metadata": {},
   "source": [
    "### Checked using Scale location plot"
   ]
  },
  {
   "cell_type": "code",
   "execution_count": 72,
   "metadata": {},
   "outputs": [
    {
     "data": {
      "image/png": "[encoded data removed]",
      "text/plain": [
       "<Figure size 432x288 with 1 Axes>"
      ]
     },
     "metadata": {
      "needs_background": "light"
     },
     "output_type": "display_data"
    }
   ],
   "source": [
    "model_norm_residuals_abs_sqrt=np.sqrt(np.abs(lm_model.resid))\n",
    " \n",
    "sns.regplot(x=lm_model.fittedvalues,\n",
    "            y=model_norm_residuals_abs_sqrt,\n",
    "              scatter=True, lowess=True)        \n",
    "plt.ylabel(\"Standarized residuals\")\n",
    "plt.xlabel(\"Fitted value\")\n",
    "plt.show()"
   ]
  },
  {
   "cell_type": "markdown",
   "metadata": {},
   "source": [
    "## We should end up getting  approx horizontal line not V-shaped line or Steep Curve"
   ]
  },
  {
   "cell_type": "markdown",
   "metadata": {},
   "source": [
    "# Conclusion:"
   ]
  },
  {
   "cell_type": "markdown",
   "metadata": {},
   "source": [
    "## In the above dataset we used various model to analyze the data. The best model we came across was LASSO which gave us the minimum RMSE (2.5831) and Maximum R-squared (0.836) and Adjusted R-squared (0.833)"
   ]
  },
  {
   "cell_type": "code",
   "execution_count": null,
   "metadata": {},
   "outputs": [],
   "source": []
  }
 ],
 "metadata": {
  "kernelspec": {
   "display_name": "Python 3",
   "language": "python",
   "name": "python3"
  },
  "language_info": {
   "codemirror_mode": {
    "name": "ipython",
    "version": 3
   },
   "file_extension": ".py",
   "mimetype": "text/x-python",
   "name": "python",
   "nbconvert_exporter": "python",
   "pygments_lexer": "ipython3",
   "version": "3.7.6"
  }
 },
 "nbformat": 4,
 "nbformat_minor": 4
}
